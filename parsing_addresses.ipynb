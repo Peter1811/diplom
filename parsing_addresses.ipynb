{
 "cells": [
  {
   "cell_type": "code",
   "execution_count": null,
   "metadata": {},
   "outputs": [],
   "source": [
    "import json\n",
    "import re"
   ]
  },
  {
   "cell_type": "code",
   "execution_count": null,
   "metadata": {},
   "outputs": [],
   "source": [
    "with open('addresses_details.json', 'w') as json_addresses:\n",
    "    data = {}\n",
    "    for school in curr_addresses:\n",
    "        data[school[0]] = {}\n",
    "        data[school[0]]['source_address'] = school[1]\n",
    "        data[school[0]]['final_address'] = []\n",
    "        data[school[0]]['locality'] = school[2]\n",
    "        data[school[0]]['region'] = regions[school[0][3:5]]\n",
    "    \n",
    "    json.dump(data, json_addresses, indent=4, ensure_ascii=False)"
   ]
  },
  {
   "cell_type": "code",
   "execution_count": null,
   "metadata": {},
   "outputs": [],
   "source": [
    "patt_list = ['(\\d{6})?[,\\. ]*',\n",
    "        '(Россия|Российская Федерация|РФ)?[,\\. ]*',\n",
    "        '(\\d{6})?[,\\. ]*',\n",
    "        '((?:(?:Республика|Респ\\.|Респ) [а-яА-Я-]*)|[а-яА-Я-]* (?:Республика|Респ\\.|Респ)|(?:РСО-Алания)|Р(?:[А-Я]|МЭ)|УР|ЧР|КБР)?[,\\. ]*',\n",
    "        '((?:Ямало-Ненецкий автономный округ)|ЯНАО)?[, ]*'\n",
    "        '((?:[а-яА-Я-]* (?:Область|область|обл\\.|обл))|(?:(?:ОБЛАСТЬ|Область|область|обл\\.|обл) [а-яА-Я-]*))?[, ]*',\n",
    "        '([а-яА-Я-]* край)?[, ]*',\n",
    "        '(\\d{6})?[, ]*',\n",
    "        '([а-яА-Я-]* национальный район)?[, ]*', \n",
    "        '((?:(?:муниципальный)? ?района|район|р-н|р-он) (?:имени|[а-яА-Я-]* ?){1,3}|[а-яА-Я-]* (?:(?:муниципальный)? ?район|р-н|р-он)|[а-яА-Я-]* кожуун)?[, ]*',\n",
    "        '([А-Я][А-Яа-я-]+ улус)?[, ]*',\n",
    "        '((?:[а-яА-Я-]* городской округ)|(?:(?:(?:Городской округ)|(?:городской округ)|г.о.|Г.о.|Г.О.|г.О.) ?[ёа-яА-Я-]*))?[, ]*',\n",
    "        '((?:ГОРОД |Г\\. ?|Г |г\\. ?|город |г )(?:[А-Я][\\.ёа-яА-Я-]* ?)*)?[, ]*', \n",
    "        '([А-Яа-я-]* территориальный округ)?[, ]*',\n",
    "        '((?:[А-Я][\\.ёа-яА-Я-]* ?){1,3}(?:г\\.|город|г))?[, ]*',\n",
    "        '([а-яА-Я-]* (?:(?:муниципальный)? ?район|р-н))?[, ]*',\n",
    "        '((?:(?:РАБОЧИЙ ПОСЕЛОК) |(?:рабочий поселок) |р\\.п\\. ?|сельсовет |станица |ст-ца |ст |ст\\. ?|аал |аул |а\\. ?|а |с\\.п\\. ?|с\\. ?|\\.с |село |с |д\\. ?|деревня |дер\\. ?|дер |д |п\\.г\\.т\\. ?|п |пос\\. ?|пос |п\\. ?|пгт |пгт\\. ?|пос(?:е|ё)лок |поселение |селение |х |х\\. ?|хутор |у |у\\. ?|улус )(?:[А-Я][\\.ёа-яА-Я-]* ?)*)?[, ]*', \n",
    "        '((?:[А-Я][\\.а-яА-Я-]* ?){1,3} ?(?:пгт|станица|сельсовет|ст-ца|ст|ст\\.|аал|аул|а\\.|а|с\\.|с|.с|село|д\\.|деревня|д|пос(?:е|ё)лок|поселение|селение|пос\\.|пос|п\\.|пгт\\.|п|х\\.|хутор|х|у\\.|улус))?[, ]*',\n",
    "        '((?:[ёа-яА-Я-]* микрорайон|м-н|мкр.|мкрн.|микр\\.|микр)|(?:микрорайон|м-н|мкр.|мкрн.|микр\\.|микр) ?(?:(?:[0-9]{1,3}|[А-Я][\\.а-яА-Я-]+|(?:[0-9]+(?:-ой|-ый|-ий|-й|-Й))|лет|им\\.|им|и) ?)*)?[, ]*',\n",
    "        '((?:Улица |УЛИЦА |УЛ\\. ?|УЛ |квартал |кв\\. ?|кв |ул\\. ?|ул |улица |улицв |улици |проспект |пр-т |площадь |пл\\. ?|пл |пер\\. ?|пер |пр-д |проезд |пр |пр\\. ?|переулок |б-р |бульвар |шоссе |ш\\. ?|ш )(?:(?:[А-Я][\\.ёа-яА-Я-]+|(?:[0-9]+(?:-ая|-ья|-я))|[0-9]+|[0-9]{1,3}-летия|летия|лет|им\\.|им|и|кольцо|мая|спуск|шоссе) ?)*)?[, ]*',\n",
    "        '((?:(?:летия|лет|им\\.|им|и|кольцо|мая|[\\.ёа-яА-Я-]+|[0-9]+(?:-ая|-ья|-я)|[0-9]+) ?){1,4}(?:кв\\.|кв|ул\\.|улица|улици|ул|у|проспект|пр-т|пр-кт|площадь|пер\\.|пер|пр-д|проезд|пр|пр\\.|переулок|б-р|бульвар|шоссе|ш\\.|ш))?[, ]*',\n",
    "        '((?:ДОМ|дом|д\\.|д|владение)? ?№? ?(?:\\d{0,3})?-?)?[, ]*',\n",
    "        '((?:корп\\.|корпус|корп|строение|здание) ?.*)?[, ]*$']\n"
   ]
  },
  {
   "cell_type": "code",
   "execution_count": null,
   "metadata": {},
   "outputs": [],
   "source": [
    "json_addresses = open('addresses_details.json', 'r+')\n",
    "data = json.load(json_addresses)\n",
    "json_addresses.close()\n",
    "\n",
    "for patt in patt_list:\n",
    "    amount = 0\n",
    "    \n",
    "    for key in data:\n",
    "        patt = re.compile(patt)\n",
    "        res = re.match(patt, data[key]['source_address'])\n",
    "        if res is not None:\n",
    "            matching = data[key]['source_address'][res.start():res.end()]\n",
    "            if matching != '':\n",
    "                data[key]['final_address'].append(data[key]['source_address'][res.start():res.end()])\n",
    "            new_str = data[key]['source_address'][res.end():]\n",
    "            data[key]['source_address'] = new_str\n",
    "            amount += 1\n",
    "\n",
    "with open('addresses_details.json', 'r+') as json_addresses:\n",
    "    json.dump(data, json_addresses, ensure_ascii=False, indent=4)\n"
   ]
  },
  {
   "cell_type": "code",
   "execution_count": null,
   "metadata": {},
   "outputs": [],
   "source": [
    "resulted_strings = []\n",
    "\n",
    "with open('resulted_strings.txt', 'w') as file_to:\n",
    "    for splited_address in splited_addresses:\n",
    "        new_address = splited_address[1]\n",
    "        for i in range(len(new_address)):\n",
    "            if len(new_address[i]) == 6 and new_address[i][0].isdigit() and new_address[i][-1].isdigit():\n",
    "                new_address[i] = ''\n",
    "        new_address = list(filter(lambda x: x != '', splited_address[1]))\n",
    "        for i in range(len(new_address)):\n",
    "            for key in abbreviations:\n",
    "                if new_address[i] == key:\n",
    "                    new_address[i] = abbreviations[key]\n",
    "\n",
    "            for key in abbreviations_with_points:\n",
    "                if key in new_address[i]:\n",
    "                    new_address[i] = new_address[i].replace(key, abbreviations_with_points[key])\n",
    "        \n",
    "        for i in range(len(new_address)):\n",
    "            new_address[i] = new_address[i].strip(' ').strip('.')\n",
    "  \n",
    "        print(splited_address[0] + ' ' + '+'.join(new_address), file=file_to)"
   ]
  },
  {
   "cell_type": "code",
   "execution_count": null,
   "metadata": {},
   "outputs": [],
   "source": [
    "import json\n",
    "\n",
    "with open('used_logins.json', 'r') as file_from:\n",
    "    data = json.load(file_from)\n",
    "    logins = [school[0] for school in splited_addresses]\n",
    "    data['used_logins'].extend(logins)\n",
    "\n",
    "with open('used_logins.json', 'w') as file_to:\n",
    "    json.dump(data, file_to, indent=4)"
   ]
  }
 ],
 "metadata": {
  "language_info": {
   "name": "python"
  }
 },
 "nbformat": 4,
 "nbformat_minor": 2
}
